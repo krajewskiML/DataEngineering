{
 "cells": [
  {
   "cell_type": "code",
   "execution_count": 1,
   "metadata": {
    "collapsed": true
   },
   "outputs": [],
   "source": [
    "import geopandas as gpd\n",
    "import geoplot\n",
    "import geoplot.crs as gcrs"
   ]
  },
  {
   "cell_type": "code",
   "execution_count": 2,
   "outputs": [],
   "source": [
    "street_data = gpd.read_file(\"roads.geojson\")"
   ],
   "metadata": {
    "collapsed": false,
    "pycharm": {
     "name": "#%%\n"
    }
   }
  },
  {
   "cell_type": "code",
   "execution_count": 3,
   "outputs": [
    {
     "data": {
      "text/plain": "      osm_id bridge bicycle layer horse   ref        highway  toll   surface  \\\n0    8921938    yes      no     2    no  I 80       motorway    no  concrete   \n1  661905446    yes      no     1  None  I 80       motorway  None  concrete   \n2  255330058   None    None  None  None  None       tertiary  None      None   \n3    8919308   None    None  None  None  None       tertiary  None      None   \n4  255330064   None    None  None  None  None  motorway_link    no   asphalt   \n\n   foot  ... tactile_paving incline handrail step_count informal   lit  \\\n0    no  ...           None    None     None       None     None  None   \n1  None  ...           None    None     None       None     None  None   \n2    no  ...           None    None     None       None     None  None   \n3    no  ...           None    None     None       None     None  None   \n4  None  ...           None    None     None       None     None  None   \n\n  cycleway FIXME segregated                                           geometry  \n0     None  None       None  LINESTRING (-122.36730 37.80811, -122.38827 37...  \n1     None  None       None  LINESTRING (-122.39037 37.78642, -122.36722 37...  \n2     None  None       None  LINESTRING (-122.37008 37.80939, -122.37035 37...  \n3     None  None       None  LINESTRING (-122.37035 37.80945, -122.36970 37...  \n4     None  None       None  LINESTRING (-122.36958 37.80928, -122.36971 37...  \n\n[5 rows x 55 columns]",
      "text/html": "<div>\n<style scoped>\n    .dataframe tbody tr th:only-of-type {\n        vertical-align: middle;\n    }\n\n    .dataframe tbody tr th {\n        vertical-align: top;\n    }\n\n    .dataframe thead th {\n        text-align: right;\n    }\n</style>\n<table border=\"1\" class=\"dataframe\">\n  <thead>\n    <tr style=\"text-align: right;\">\n      <th></th>\n      <th>osm_id</th>\n      <th>bridge</th>\n      <th>bicycle</th>\n      <th>layer</th>\n      <th>horse</th>\n      <th>ref</th>\n      <th>highway</th>\n      <th>toll</th>\n      <th>surface</th>\n      <th>foot</th>\n      <th>...</th>\n      <th>tactile_paving</th>\n      <th>incline</th>\n      <th>handrail</th>\n      <th>step_count</th>\n      <th>informal</th>\n      <th>lit</th>\n      <th>cycleway</th>\n      <th>FIXME</th>\n      <th>segregated</th>\n      <th>geometry</th>\n    </tr>\n  </thead>\n  <tbody>\n    <tr>\n      <th>0</th>\n      <td>8921938</td>\n      <td>yes</td>\n      <td>no</td>\n      <td>2</td>\n      <td>no</td>\n      <td>I 80</td>\n      <td>motorway</td>\n      <td>no</td>\n      <td>concrete</td>\n      <td>no</td>\n      <td>...</td>\n      <td>None</td>\n      <td>None</td>\n      <td>None</td>\n      <td>None</td>\n      <td>None</td>\n      <td>None</td>\n      <td>None</td>\n      <td>None</td>\n      <td>None</td>\n      <td>LINESTRING (-122.36730 37.80811, -122.38827 37...</td>\n    </tr>\n    <tr>\n      <th>1</th>\n      <td>661905446</td>\n      <td>yes</td>\n      <td>no</td>\n      <td>1</td>\n      <td>None</td>\n      <td>I 80</td>\n      <td>motorway</td>\n      <td>None</td>\n      <td>concrete</td>\n      <td>None</td>\n      <td>...</td>\n      <td>None</td>\n      <td>None</td>\n      <td>None</td>\n      <td>None</td>\n      <td>None</td>\n      <td>None</td>\n      <td>None</td>\n      <td>None</td>\n      <td>None</td>\n      <td>LINESTRING (-122.39037 37.78642, -122.36722 37...</td>\n    </tr>\n    <tr>\n      <th>2</th>\n      <td>255330058</td>\n      <td>None</td>\n      <td>None</td>\n      <td>None</td>\n      <td>None</td>\n      <td>None</td>\n      <td>tertiary</td>\n      <td>None</td>\n      <td>None</td>\n      <td>no</td>\n      <td>...</td>\n      <td>None</td>\n      <td>None</td>\n      <td>None</td>\n      <td>None</td>\n      <td>None</td>\n      <td>None</td>\n      <td>None</td>\n      <td>None</td>\n      <td>None</td>\n      <td>LINESTRING (-122.37008 37.80939, -122.37035 37...</td>\n    </tr>\n    <tr>\n      <th>3</th>\n      <td>8919308</td>\n      <td>None</td>\n      <td>None</td>\n      <td>None</td>\n      <td>None</td>\n      <td>None</td>\n      <td>tertiary</td>\n      <td>None</td>\n      <td>None</td>\n      <td>no</td>\n      <td>...</td>\n      <td>None</td>\n      <td>None</td>\n      <td>None</td>\n      <td>None</td>\n      <td>None</td>\n      <td>None</td>\n      <td>None</td>\n      <td>None</td>\n      <td>None</td>\n      <td>LINESTRING (-122.37035 37.80945, -122.36970 37...</td>\n    </tr>\n    <tr>\n      <th>4</th>\n      <td>255330064</td>\n      <td>None</td>\n      <td>None</td>\n      <td>None</td>\n      <td>None</td>\n      <td>None</td>\n      <td>motorway_link</td>\n      <td>no</td>\n      <td>asphalt</td>\n      <td>None</td>\n      <td>...</td>\n      <td>None</td>\n      <td>None</td>\n      <td>None</td>\n      <td>None</td>\n      <td>None</td>\n      <td>None</td>\n      <td>None</td>\n      <td>None</td>\n      <td>None</td>\n      <td>LINESTRING (-122.36958 37.80928, -122.36971 37...</td>\n    </tr>\n  </tbody>\n</table>\n<p>5 rows × 55 columns</p>\n</div>"
     },
     "execution_count": 3,
     "metadata": {},
     "output_type": "execute_result"
    }
   ],
   "source": [
    "street_data.head()"
   ],
   "metadata": {
    "collapsed": false,
    "pycharm": {
     "name": "#%%\n"
    }
   }
  },
  {
   "cell_type": "code",
   "execution_count": 4,
   "outputs": [
    {
     "data": {
      "text/plain": "<GeoAxesSubplot:>"
     },
     "execution_count": 4,
     "metadata": {},
     "output_type": "execute_result"
    },
    {
     "data": {
      "text/plain": "<Figure size 864x576 with 1 Axes>",
      "image/png": "[encoded data removed]"
     },
     "metadata": {
      "needs_background": "light"
     },
     "output_type": "display_data"
    }
   ],
   "source": [
    "geoplot.polyplot(street_data, projection=gcrs.AlbersEqualArea(), edgecolor='blue', facecolor='blue', linewidth=.3,\n",
    "    figsize=(12, 8))"
   ],
   "metadata": {
    "collapsed": false,
    "pycharm": {
     "name": "#%%\n"
    }
   }
  },
  {
   "cell_type": "code",
   "execution_count": 7,
   "outputs": [
    {
     "data": {
      "text/plain": "<GeoAxesSubplot:>"
     },
     "execution_count": 7,
     "metadata": {},
     "output_type": "execute_result"
    },
    {
     "data": {
      "text/plain": "<Figure size 864x576 with 1 Axes>",
      "image/png": "[encoded data removed]"
     },
     "metadata": {
      "needs_background": "light"
     },
     "output_type": "display_data"
    }
   ],
   "source": [
    "github_data = gpd.read_file(\"san-francisco-street-trees-sample.geojson\")\n",
    "sample = github_data.sample(frac=0.1)\n",
    "geoplot.polyplot(sample, projection=gcrs.AlbersEqualArea(), edgecolor='darkgreen', facecolor='lightgreen', linewidth=.3, figsize=(12, 8))"
   ],
   "metadata": {
    "collapsed": false,
    "pycharm": {
     "name": "#%%\n"
    }
   }
  },
  {
   "cell_type": "code",
   "execution_count": 11,
   "outputs": [
    {
     "ename": "InvalidPathError",
     "evalue": "D:\\Projekty\\DataEngineering\\data does not exist",
     "output_type": "error",
     "traceback": [
      "\u001B[1;31m---------------------------------------------------------------------------\u001B[0m",
      "\u001B[1;31mInvalidPathError\u001B[0m                          Traceback (most recent call last)",
      "Input \u001B[1;32mIn [11]\u001B[0m, in \u001B[0;36m<cell line: 2>\u001B[1;34m()\u001B[0m\n\u001B[0;32m      1\u001B[0m \u001B[38;5;28;01mimport\u001B[39;00m \u001B[38;5;21;01mgeodemo\u001B[39;00m\n\u001B[1;32m----> 2\u001B[0m \u001B[38;5;28mmap\u001B[39m \u001B[38;5;241m=\u001B[39m \u001B[43mgeodemo\u001B[49m\u001B[38;5;241;43m.\u001B[39;49m\u001B[43mMap\u001B[49m\u001B[43m(\u001B[49m\u001B[43m)\u001B[49m\n\u001B[0;32m      3\u001B[0m \u001B[38;5;28mmap\u001B[39m\n",
      "File \u001B[1;32mD:\\Anaconda\\envs\\DataEngineering\\lib\\site-packages\\geodemo\\geodemo.py:49\u001B[0m, in \u001B[0;36mMap.__init__\u001B[1;34m(self, **kwargs)\u001B[0m\n\u001B[0;32m     46\u001B[0m \u001B[38;5;28mself\u001B[39m\u001B[38;5;241m.\u001B[39madd_control(MeasureControl())\n\u001B[0;32m     47\u001B[0m \u001B[38;5;28mself\u001B[39m\u001B[38;5;241m.\u001B[39madd_control(ScaleControl(position\u001B[38;5;241m=\u001B[39m\u001B[38;5;124m\"\u001B[39m\u001B[38;5;124mbottomleft\u001B[39m\u001B[38;5;124m\"\u001B[39m))\n\u001B[1;32m---> 49\u001B[0m \u001B[43mmain_toolbar\u001B[49m\u001B[43m(\u001B[49m\u001B[38;5;28;43mself\u001B[39;49m\u001B[43m)\u001B[49m\n\u001B[0;32m     51\u001B[0m \u001B[38;5;28;01mif\u001B[39;00m \u001B[38;5;124m\"\u001B[39m\u001B[38;5;124mgoogle_map\u001B[39m\u001B[38;5;124m\"\u001B[39m \u001B[38;5;129;01mnot\u001B[39;00m \u001B[38;5;129;01min\u001B[39;00m kwargs:\n\u001B[0;32m     52\u001B[0m     layer \u001B[38;5;241m=\u001B[39m TileLayer(\n\u001B[0;32m     53\u001B[0m         url\u001B[38;5;241m=\u001B[39m\u001B[38;5;124m\"\u001B[39m\u001B[38;5;124mhttps://mt1.google.com/vt/lyrs=m&x=\u001B[39m\u001B[38;5;132;01m{x}\u001B[39;00m\u001B[38;5;124m&y=\u001B[39m\u001B[38;5;132;01m{y}\u001B[39;00m\u001B[38;5;124m&z=\u001B[39m\u001B[38;5;132;01m{z}\u001B[39;00m\u001B[38;5;124m\"\u001B[39m,\n\u001B[0;32m     54\u001B[0m         attribution\u001B[38;5;241m=\u001B[39m\u001B[38;5;124m\"\u001B[39m\u001B[38;5;124mGoogle\u001B[39m\u001B[38;5;124m\"\u001B[39m,\n\u001B[0;32m     55\u001B[0m         name\u001B[38;5;241m=\u001B[39m\u001B[38;5;124m\"\u001B[39m\u001B[38;5;124mGoogle Maps\u001B[39m\u001B[38;5;124m\"\u001B[39m,\n\u001B[0;32m     56\u001B[0m     )\n",
      "File \u001B[1;32mD:\\Anaconda\\envs\\DataEngineering\\lib\\site-packages\\geodemo\\toolbar.py:81\u001B[0m, in \u001B[0;36mmain_toolbar\u001B[1;34m(m)\u001B[0m\n\u001B[0;32m     77\u001B[0m buttons\u001B[38;5;241m.\u001B[39mstyle\u001B[38;5;241m.\u001B[39mbutton_width \u001B[38;5;241m=\u001B[39m \u001B[38;5;124m\"\u001B[39m\u001B[38;5;124m80px\u001B[39m\u001B[38;5;124m\"\u001B[39m\n\u001B[0;32m     79\u001B[0m data_dir \u001B[38;5;241m=\u001B[39m os\u001B[38;5;241m.\u001B[39mpath\u001B[38;5;241m.\u001B[39mabspath(\u001B[38;5;124m\"\u001B[39m\u001B[38;5;124m./data\u001B[39m\u001B[38;5;124m\"\u001B[39m)\n\u001B[1;32m---> 81\u001B[0m fc \u001B[38;5;241m=\u001B[39m \u001B[43mFileChooser\u001B[49m\u001B[43m(\u001B[49m\u001B[43mdata_dir\u001B[49m\u001B[43m)\u001B[49m\n\u001B[0;32m     82\u001B[0m fc\u001B[38;5;241m.\u001B[39muse_dir_icons \u001B[38;5;241m=\u001B[39m \u001B[38;5;28;01mTrue\u001B[39;00m\n\u001B[0;32m     83\u001B[0m fc\u001B[38;5;241m.\u001B[39mfilter_pattern \u001B[38;5;241m=\u001B[39m [\u001B[38;5;124m\"\u001B[39m\u001B[38;5;124m*.shp\u001B[39m\u001B[38;5;124m\"\u001B[39m, \u001B[38;5;124m\"\u001B[39m\u001B[38;5;124m*.geojson\u001B[39m\u001B[38;5;124m\"\u001B[39m]\n",
      "File \u001B[1;32mD:\\Anaconda\\envs\\DataEngineering\\lib\\site-packages\\ipyfilechooser\\filechooser.py:42\u001B[0m, in \u001B[0;36mFileChooser.__init__\u001B[1;34m(self, path, filename, title, select_desc, change_desc, show_hidden, select_default, dir_icon, dir_icon_append, show_only_dirs, filter_pattern, sandbox_path, layout, **kwargs)\u001B[0m\n\u001B[0;32m     39\u001B[0m \u001B[38;5;28;01mif\u001B[39;00m \u001B[38;5;129;01mnot\u001B[39;00m is_valid_filename(filename):\n\u001B[0;32m     40\u001B[0m     \u001B[38;5;28;01mraise\u001B[39;00m InvalidFileNameError(filename)\n\u001B[1;32m---> 42\u001B[0m \u001B[38;5;28mself\u001B[39m\u001B[38;5;241m.\u001B[39m_default_path \u001B[38;5;241m=\u001B[39m \u001B[43mnormalize_path\u001B[49m\u001B[43m(\u001B[49m\u001B[43mpath\u001B[49m\u001B[43m)\u001B[49m\n\u001B[0;32m     43\u001B[0m \u001B[38;5;28mself\u001B[39m\u001B[38;5;241m.\u001B[39m_default_filename \u001B[38;5;241m=\u001B[39m filename\n\u001B[0;32m     44\u001B[0m \u001B[38;5;28mself\u001B[39m\u001B[38;5;241m.\u001B[39m_selected_path: Optional[\u001B[38;5;28mstr\u001B[39m] \u001B[38;5;241m=\u001B[39m \u001B[38;5;28;01mNone\u001B[39;00m\n",
      "File \u001B[1;32mD:\\Anaconda\\envs\\DataEngineering\\lib\\site-packages\\ipyfilechooser\\utils.py:137\u001B[0m, in \u001B[0;36mnormalize_path\u001B[1;34m(path)\u001B[0m\n\u001B[0;32m    134\u001B[0m normalized_path \u001B[38;5;241m=\u001B[39m os\u001B[38;5;241m.\u001B[39mpath\u001B[38;5;241m.\u001B[39mrealpath(path)\n\u001B[0;32m    136\u001B[0m \u001B[38;5;28;01mif\u001B[39;00m \u001B[38;5;129;01mnot\u001B[39;00m os\u001B[38;5;241m.\u001B[39mpath\u001B[38;5;241m.\u001B[39misdir(normalized_path):\n\u001B[1;32m--> 137\u001B[0m     \u001B[38;5;28;01mraise\u001B[39;00m InvalidPathError(path)\n\u001B[0;32m    139\u001B[0m \u001B[38;5;28;01mreturn\u001B[39;00m normalized_path\n",
      "\u001B[1;31mInvalidPathError\u001B[0m: D:\\Projekty\\DataEngineering\\data does not exist"
     ]
    }
   ],
   "source": [
    "import geodemo\n",
    "map = geodemo.Map()\n",
    "map"
   ],
   "metadata": {
    "collapsed": false,
    "pycharm": {
     "name": "#%%\n"
    }
   }
  },
  {
   "cell_type": "code",
   "execution_count": 15,
   "outputs": [],
   "source": [
    "overpas_data =gpd.read_file(\"file.geojson\")"
   ],
   "metadata": {
    "collapsed": false,
    "pycharm": {
     "name": "#%%\n"
    }
   }
  },
  {
   "cell_type": "code",
   "execution_count": 16,
   "outputs": [
    {
     "name": "stderr",
     "output_type": "stream",
     "text": [
      "D:\\Anaconda\\envs\\DataEngineering\\lib\\site-packages\\geopandas\\array.py:917: RuntimeWarning: All-NaN slice encountered\n",
      "  np.nanmin(b[:, 0]),  # minx\n",
      "D:\\Anaconda\\envs\\DataEngineering\\lib\\site-packages\\geopandas\\array.py:918: RuntimeWarning: All-NaN slice encountered\n",
      "  np.nanmin(b[:, 1]),  # miny\n",
      "D:\\Anaconda\\envs\\DataEngineering\\lib\\site-packages\\geopandas\\array.py:919: RuntimeWarning: All-NaN slice encountered\n",
      "  np.nanmax(b[:, 2]),  # maxx\n",
      "D:\\Anaconda\\envs\\DataEngineering\\lib\\site-packages\\geopandas\\array.py:920: RuntimeWarning: All-NaN slice encountered\n",
      "  np.nanmax(b[:, 3]),  # maxy\n",
      "IllegalArgumentException: Points of LinearRing do not form a closed linestring\n"
     ]
    },
    {
     "ename": "ValueError",
     "evalue": "GEOSGeom_createLinearRing_r returned a NULL pointer",
     "output_type": "error",
     "traceback": [
      "\u001B[1;31m---------------------------------------------------------------------------\u001B[0m",
      "\u001B[1;31mValueError\u001B[0m                                Traceback (most recent call last)",
      "Input \u001B[1;32mIn [16]\u001B[0m, in \u001B[0;36m<cell line: 1>\u001B[1;34m()\u001B[0m\n\u001B[1;32m----> 1\u001B[0m \u001B[43mgeoplot\u001B[49m\u001B[38;5;241;43m.\u001B[39;49m\u001B[43mpolyplot\u001B[49m\u001B[43m(\u001B[49m\u001B[43moverpas_data\u001B[49m\u001B[43m,\u001B[49m\u001B[43m \u001B[49m\u001B[43mprojection\u001B[49m\u001B[38;5;241;43m=\u001B[39;49m\u001B[43mgcrs\u001B[49m\u001B[38;5;241;43m.\u001B[39;49m\u001B[43mAlbersEqualArea\u001B[49m\u001B[43m(\u001B[49m\u001B[43m)\u001B[49m\u001B[43m,\u001B[49m\u001B[43m \u001B[49m\u001B[43medgecolor\u001B[49m\u001B[38;5;241;43m=\u001B[39;49m\u001B[38;5;124;43m'\u001B[39;49m\u001B[38;5;124;43mdarkgreen\u001B[39;49m\u001B[38;5;124;43m'\u001B[39;49m\u001B[43m,\u001B[49m\u001B[43m \u001B[49m\u001B[43mfacecolor\u001B[49m\u001B[38;5;241;43m=\u001B[39;49m\u001B[38;5;124;43m'\u001B[39;49m\u001B[38;5;124;43mlightgreen\u001B[39;49m\u001B[38;5;124;43m'\u001B[39;49m\u001B[43m,\u001B[49m\u001B[43m \u001B[49m\u001B[43mlinewidth\u001B[49m\u001B[38;5;241;43m=\u001B[39;49m\u001B[38;5;241;43m.3\u001B[39;49m\u001B[43m,\u001B[49m\u001B[43m \u001B[49m\u001B[43mfigsize\u001B[49m\u001B[38;5;241;43m=\u001B[39;49m\u001B[43m(\u001B[49m\u001B[38;5;241;43m12\u001B[39;49m\u001B[43m,\u001B[49m\u001B[43m \u001B[49m\u001B[38;5;241;43m8\u001B[39;49m\u001B[43m)\u001B[49m\u001B[43m)\u001B[49m\n",
      "File \u001B[1;32mD:\\Anaconda\\envs\\DataEngineering\\lib\\site-packages\\geoplot\\geoplot.py:900\u001B[0m, in \u001B[0;36mpolyplot\u001B[1;34m(df, projection, extent, figsize, ax, **kwargs)\u001B[0m\n\u001B[0;32m    896\u001B[0m                     ax\u001B[38;5;241m.\u001B[39madd_patch(feature)\n\u001B[0;32m    898\u001B[0m         \u001B[38;5;28;01mreturn\u001B[39;00m ax\n\u001B[1;32m--> 900\u001B[0m plot \u001B[38;5;241m=\u001B[39m \u001B[43mPolyPlot\u001B[49m\u001B[43m(\u001B[49m\u001B[43mdf\u001B[49m\u001B[43m,\u001B[49m\u001B[43m \u001B[49m\u001B[43mfigsize\u001B[49m\u001B[38;5;241;43m=\u001B[39;49m\u001B[43mfigsize\u001B[49m\u001B[43m,\u001B[49m\u001B[43m \u001B[49m\u001B[43max\u001B[49m\u001B[38;5;241;43m=\u001B[39;49m\u001B[43max\u001B[49m\u001B[43m,\u001B[49m\u001B[43m \u001B[49m\u001B[43mextent\u001B[49m\u001B[38;5;241;43m=\u001B[39;49m\u001B[43mextent\u001B[49m\u001B[43m,\u001B[49m\u001B[43m \u001B[49m\u001B[43mprojection\u001B[49m\u001B[38;5;241;43m=\u001B[39;49m\u001B[43mprojection\u001B[49m\u001B[43m,\u001B[49m\u001B[43m \u001B[49m\u001B[38;5;241;43m*\u001B[39;49m\u001B[38;5;241;43m*\u001B[39;49m\u001B[43mkwargs\u001B[49m\u001B[43m)\u001B[49m\n\u001B[0;32m    901\u001B[0m \u001B[38;5;28;01mreturn\u001B[39;00m plot\u001B[38;5;241m.\u001B[39mdraw()\n",
      "File \u001B[1;32mD:\\Anaconda\\envs\\DataEngineering\\lib\\site-packages\\geoplot\\geoplot.py:862\u001B[0m, in \u001B[0;36mpolyplot.<locals>.PolyPlot.__init__\u001B[1;34m(self, df, **kwargs)\u001B[0m\n\u001B[0;32m    861\u001B[0m \u001B[38;5;28;01mdef\u001B[39;00m \u001B[38;5;21m__init__\u001B[39m(\u001B[38;5;28mself\u001B[39m, df, \u001B[38;5;241m*\u001B[39m\u001B[38;5;241m*\u001B[39mkwargs):\n\u001B[1;32m--> 862\u001B[0m     \u001B[38;5;28;43msuper\u001B[39;49m\u001B[43m(\u001B[49m\u001B[43m)\u001B[49m\u001B[38;5;241;43m.\u001B[39;49m\u001B[38;5;21;43m__init__\u001B[39;49m\u001B[43m(\u001B[49m\u001B[43mdf\u001B[49m\u001B[43m,\u001B[49m\u001B[43m \u001B[49m\u001B[38;5;241;43m*\u001B[39;49m\u001B[38;5;241;43m*\u001B[39;49m\u001B[43mkwargs\u001B[49m\u001B[43m)\u001B[49m\n",
      "File \u001B[1;32mD:\\Anaconda\\envs\\DataEngineering\\lib\\site-packages\\geoplot\\geoplot.py:628\u001B[0m, in \u001B[0;36mPlot.__init__\u001B[1;34m(self, df, **kwargs)\u001B[0m\n\u001B[0;32m    626\u001B[0m \u001B[38;5;28mself\u001B[39m\u001B[38;5;241m.\u001B[39mprojection \u001B[38;5;241m=\u001B[39m kwargs\u001B[38;5;241m.\u001B[39mpop(\u001B[38;5;124m'\u001B[39m\u001B[38;5;124mprojection\u001B[39m\u001B[38;5;124m'\u001B[39m)\n\u001B[0;32m    627\u001B[0m \u001B[38;5;66;03m# TODO: init_axes() -> init_axes(ax)\u001B[39;00m\n\u001B[1;32m--> 628\u001B[0m \u001B[38;5;28;43mself\u001B[39;49m\u001B[38;5;241;43m.\u001B[39;49m\u001B[43minit_axes\u001B[49m\u001B[43m(\u001B[49m\u001B[43m)\u001B[49m\n\u001B[0;32m    629\u001B[0m \u001B[38;5;28mself\u001B[39m\u001B[38;5;241m.\u001B[39mkwargs \u001B[38;5;241m=\u001B[39m kwargs\n",
      "File \u001B[1;32mD:\\Anaconda\\envs\\DataEngineering\\lib\\site-packages\\geoplot\\geoplot.py:656\u001B[0m, in \u001B[0;36mPlot.init_axes\u001B[1;34m(self)\u001B[0m\n\u001B[0;32m    652\u001B[0m central_latitude \u001B[38;5;241m=\u001B[39m np\u001B[38;5;241m.\u001B[39mmean(extent[[\u001B[38;5;241m1\u001B[39m, \u001B[38;5;241m3\u001B[39m]]) \u001B[38;5;28;01mif\u001B[39;00m extent \u001B[38;5;129;01mis\u001B[39;00m \u001B[38;5;129;01mnot\u001B[39;00m \u001B[38;5;28;01mNone\u001B[39;00m\\\n\u001B[0;32m    653\u001B[0m     \u001B[38;5;28;01melse\u001B[39;00m np\u001B[38;5;241m.\u001B[39mmean(extrema[[\u001B[38;5;241m1\u001B[39m, \u001B[38;5;241m3\u001B[39m]])\n\u001B[0;32m    655\u001B[0m \u001B[38;5;28;01mif\u001B[39;00m \u001B[38;5;28mself\u001B[39m\u001B[38;5;241m.\u001B[39mprojection:\n\u001B[1;32m--> 656\u001B[0m     \u001B[38;5;28mself\u001B[39m\u001B[38;5;241m.\u001B[39mprojection \u001B[38;5;241m=\u001B[39m \u001B[38;5;28;43mself\u001B[39;49m\u001B[38;5;241;43m.\u001B[39;49m\u001B[43mprojection\u001B[49m\u001B[38;5;241;43m.\u001B[39;49m\u001B[43mload\u001B[49m\u001B[43m(\u001B[49m\u001B[38;5;28;43mself\u001B[39;49m\u001B[38;5;241;43m.\u001B[39;49m\u001B[43mdf\u001B[49m\u001B[43m,\u001B[49m\u001B[43m \u001B[49m\u001B[43m{\u001B[49m\n\u001B[0;32m    657\u001B[0m \u001B[43m        \u001B[49m\u001B[38;5;124;43m'\u001B[39;49m\u001B[38;5;124;43mcentral_longitude\u001B[39;49m\u001B[38;5;124;43m'\u001B[39;49m\u001B[43m:\u001B[49m\u001B[43m \u001B[49m\u001B[43mcentral_longitude\u001B[49m\u001B[43m,\u001B[49m\n\u001B[0;32m    658\u001B[0m \u001B[43m        \u001B[49m\u001B[38;5;124;43m'\u001B[39;49m\u001B[38;5;124;43mcentral_latitude\u001B[39;49m\u001B[38;5;124;43m'\u001B[39;49m\u001B[43m:\u001B[49m\u001B[43m \u001B[49m\u001B[43mcentral_latitude\u001B[49m\n\u001B[0;32m    659\u001B[0m \u001B[43m    \u001B[49m\u001B[43m}\u001B[49m\u001B[43m)\u001B[49m\n\u001B[0;32m    661\u001B[0m     \u001B[38;5;28;01mif\u001B[39;00m \u001B[38;5;28mself\u001B[39m\u001B[38;5;241m.\u001B[39max \u001B[38;5;129;01mis\u001B[39;00m \u001B[38;5;28;01mNone\u001B[39;00m:\n\u001B[0;32m    662\u001B[0m         ax \u001B[38;5;241m=\u001B[39m plt\u001B[38;5;241m.\u001B[39msubplot(\u001B[38;5;241m111\u001B[39m, projection\u001B[38;5;241m=\u001B[39m\u001B[38;5;28mself\u001B[39m\u001B[38;5;241m.\u001B[39mprojection)\n",
      "File \u001B[1;32mD:\\Anaconda\\envs\\DataEngineering\\lib\\site-packages\\geoplot\\crs.py:80\u001B[0m, in \u001B[0;36mBase.load\u001B[1;34m(self, df, centerings)\u001B[0m\n\u001B[0;32m     78\u001B[0m     \u001B[38;5;28;01mreturn\u001B[39;00m WebMercator(\u001B[38;5;28mself\u001B[39m\u001B[38;5;241m.\u001B[39margs)\n\u001B[0;32m     79\u001B[0m \u001B[38;5;28;01melse\u001B[39;00m:\n\u001B[1;32m---> 80\u001B[0m     \u001B[38;5;28;01mreturn\u001B[39;00m \u001B[38;5;28;43mgetattr\u001B[39;49m\u001B[43m(\u001B[49m\u001B[43mccrs\u001B[49m\u001B[43m,\u001B[49m\u001B[43m \u001B[49m\u001B[38;5;28;43mself\u001B[39;49m\u001B[38;5;241;43m.\u001B[39;49m\u001B[38;5;18;43m__class__\u001B[39;49m\u001B[38;5;241;43m.\u001B[39;49m\u001B[38;5;18;43m__name__\u001B[39;49m\u001B[43m)\u001B[49m\u001B[43m(\u001B[49m\u001B[38;5;241;43m*\u001B[39;49m\u001B[38;5;241;43m*\u001B[39;49m\u001B[43m{\u001B[49m\u001B[38;5;241;43m*\u001B[39;49m\u001B[38;5;241;43m*\u001B[39;49m\u001B[43mcenterings\u001B[49m\u001B[43m,\u001B[49m\u001B[43m \u001B[49m\u001B[38;5;241;43m*\u001B[39;49m\u001B[38;5;241;43m*\u001B[39;49m\u001B[38;5;28;43mself\u001B[39;49m\u001B[38;5;241;43m.\u001B[39;49m\u001B[43margs\u001B[49m\u001B[43m}\u001B[49m\u001B[43m)\u001B[49m\n",
      "File \u001B[1;32mD:\\Anaconda\\envs\\DataEngineering\\lib\\site-packages\\cartopy\\crs.py:2246\u001B[0m, in \u001B[0;36mAlbersEqualArea.__init__\u001B[1;34m(self, central_longitude, central_latitude, false_easting, false_northing, standard_parallels, globe)\u001B[0m\n\u001B[0;32m   2242\u001B[0m lats[\u001B[38;5;241m-\u001B[39m\u001B[38;5;241m1\u001B[39m] \u001B[38;5;241m=\u001B[39m lats[\u001B[38;5;241m0\u001B[39m]\n\u001B[0;32m   2244\u001B[0m points \u001B[38;5;241m=\u001B[39m \u001B[38;5;28mself\u001B[39m\u001B[38;5;241m.\u001B[39mtransform_points(\u001B[38;5;28mself\u001B[39m\u001B[38;5;241m.\u001B[39mas_geodetic(), lons, lats)\n\u001B[1;32m-> 2246\u001B[0m \u001B[38;5;28mself\u001B[39m\u001B[38;5;241m.\u001B[39m_boundary \u001B[38;5;241m=\u001B[39m \u001B[43msgeom\u001B[49m\u001B[38;5;241;43m.\u001B[39;49m\u001B[43mLinearRing\u001B[49m\u001B[43m(\u001B[49m\u001B[43mpoints\u001B[49m\u001B[43m)\u001B[49m\n\u001B[0;32m   2247\u001B[0m mins \u001B[38;5;241m=\u001B[39m np\u001B[38;5;241m.\u001B[39mmin(points, axis\u001B[38;5;241m=\u001B[39m\u001B[38;5;241m0\u001B[39m)\n\u001B[0;32m   2248\u001B[0m maxs \u001B[38;5;241m=\u001B[39m np\u001B[38;5;241m.\u001B[39mmax(points, axis\u001B[38;5;241m=\u001B[39m\u001B[38;5;241m0\u001B[39m)\n",
      "File \u001B[1;32mD:\\Anaconda\\envs\\DataEngineering\\lib\\site-packages\\shapely\\geometry\\polygon.py:55\u001B[0m, in \u001B[0;36mLinearRing.__init__\u001B[1;34m(self, coordinates)\u001B[0m\n\u001B[0;32m     53\u001B[0m BaseGeometry\u001B[38;5;241m.\u001B[39m\u001B[38;5;21m__init__\u001B[39m(\u001B[38;5;28mself\u001B[39m)\n\u001B[0;32m     54\u001B[0m \u001B[38;5;28;01mif\u001B[39;00m coordinates \u001B[38;5;129;01mis\u001B[39;00m \u001B[38;5;129;01mnot\u001B[39;00m \u001B[38;5;28;01mNone\u001B[39;00m:\n\u001B[1;32m---> 55\u001B[0m     \u001B[38;5;28;43mself\u001B[39;49m\u001B[38;5;241;43m.\u001B[39;49m\u001B[43m_set_coords\u001B[49m\u001B[43m(\u001B[49m\u001B[43mcoordinates\u001B[49m\u001B[43m)\u001B[49m\n",
      "File \u001B[1;32mD:\\Anaconda\\envs\\DataEngineering\\lib\\site-packages\\shapely\\geometry\\polygon.py:70\u001B[0m, in \u001B[0;36mLinearRing._set_coords\u001B[1;34m(self, coordinates)\u001B[0m\n\u001B[0;32m     68\u001B[0m \u001B[38;5;28;01mdef\u001B[39;00m \u001B[38;5;21m_set_coords\u001B[39m(\u001B[38;5;28mself\u001B[39m, coordinates):\n\u001B[0;32m     69\u001B[0m     \u001B[38;5;28mself\u001B[39m\u001B[38;5;241m.\u001B[39mempty()\n\u001B[1;32m---> 70\u001B[0m     ret \u001B[38;5;241m=\u001B[39m \u001B[43mgeos_linearring_from_py\u001B[49m\u001B[43m(\u001B[49m\u001B[43mcoordinates\u001B[49m\u001B[43m)\u001B[49m\n\u001B[0;32m     71\u001B[0m     \u001B[38;5;28;01mif\u001B[39;00m ret \u001B[38;5;129;01mis\u001B[39;00m \u001B[38;5;129;01mnot\u001B[39;00m \u001B[38;5;28;01mNone\u001B[39;00m:\n\u001B[0;32m     72\u001B[0m         \u001B[38;5;28mself\u001B[39m\u001B[38;5;241m.\u001B[39m_geom, \u001B[38;5;28mself\u001B[39m\u001B[38;5;241m.\u001B[39m_ndim \u001B[38;5;241m=\u001B[39m ret\n",
      "File \u001B[1;32mD:\\Anaconda\\envs\\DataEngineering\\lib\\site-packages\\shapely\\speedups\\_speedups.pyx:408\u001B[0m, in \u001B[0;36mshapely.speedups._speedups.geos_linearring_from_py\u001B[1;34m()\u001B[0m\n",
      "\u001B[1;31mValueError\u001B[0m: GEOSGeom_createLinearRing_r returned a NULL pointer"
     ]
    },
    {
     "data": {
      "text/plain": "<Figure size 864x576 with 0 Axes>"
     },
     "metadata": {},
     "output_type": "display_data"
    }
   ],
   "source": [
    "geoplot.polyplot(overpas_data, projection=gcrs.AlbersEqualArea(), edgecolor='darkgreen', facecolor='lightgreen', linewidth=.3, figsize=(12, 8))"
   ],
   "metadata": {
    "collapsed": false,
    "pycharm": {
     "name": "#%%\n"
    }
   }
  },
  {
   "cell_type": "code",
   "execution_count": 17,
   "outputs": [],
   "source": [
    "import json"
   ],
   "metadata": {
    "collapsed": false,
    "pycharm": {
     "name": "#%%\n"
    }
   }
  },
  {
   "cell_type": "code",
   "execution_count": 18,
   "outputs": [],
   "source": [
    "with open(\"roads.geojson\") as fin:\n",
    "    osm_data = json.load(fin)"
   ],
   "metadata": {
    "collapsed": false,
    "pycharm": {
     "name": "#%%\n"
    }
   }
  },
  {
   "cell_type": "code",
   "execution_count": 19,
   "outputs": [],
   "source": [
    "ways = osm_data[\"features\"]\n",
    "highways = [way[\"properties\"]['highway'] for way in ways]"
   ],
   "metadata": {
    "collapsed": false,
    "pycharm": {
     "name": "#%%\n"
    }
   }
  },
  {
   "cell_type": "code",
   "execution_count": 20,
   "outputs": [
    {
     "data": {
      "text/plain": "['motorway',\n 'motorway_link',\n 'living_street',\n 'footway',\n 'path',\n 'service',\n 'unclassified',\n 'construction',\n 'steps',\n 'cycleway',\n 'tertiary',\n 'residential']"
     },
     "execution_count": 20,
     "metadata": {},
     "output_type": "execute_result"
    }
   ],
   "source": [
    "unique = list(set(highways))\n",
    "unique"
   ],
   "metadata": {
    "collapsed": false,
    "pycharm": {
     "name": "#%%\n"
    }
   }
  },
  {
   "cell_type": "code",
   "execution_count": null,
   "outputs": [],
   "source": [],
   "metadata": {
    "collapsed": false,
    "pycharm": {
     "name": "#%%\n"
    }
   }
  }
 ],
 "metadata": {
  "kernelspec": {
   "display_name": "Python 3",
   "language": "python",
   "name": "python3"
  },
  "language_info": {
   "codemirror_mode": {
    "name": "ipython",
    "version": 2
   },
   "file_extension": ".py",
   "mimetype": "text/x-python",
   "name": "python",
   "nbconvert_exporter": "python",
   "pygments_lexer": "ipython2",
   "version": "2.7.6"
  }
 },
 "nbformat": 4,
 "nbformat_minor": 0
}